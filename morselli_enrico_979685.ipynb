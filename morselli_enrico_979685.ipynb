{
  "cells": [
    {
      "cell_type": "markdown",
      "metadata": {
        "id": "dl3_tXAM1EP1"
      },
      "source": [
        "# **Exam 1st July - Emotion Detection**"
      ]
    },
    {
      "cell_type": "markdown",
      "source": [
        "**Author**: Morselli Enrico, 979685\n",
        "\n",
        "enrico.morselli@studio.unibo.it"
      ],
      "metadata": {
        "id": "B9zhEFxPbs0v"
      }
    },
    {
      "cell_type": "markdown",
      "metadata": {
        "id": "fLwDRcnvxxz8"
      },
      "source": [
        "First thing first, we import all the needed libraries"
      ]
    },
    {
      "cell_type": "code",
      "execution_count": 73,
      "metadata": {
        "id": "8M12xKrlxxOs"
      },
      "outputs": [],
      "source": [
        "# data pre-processing\n",
        "import re\n",
        "from functools import reduce\n",
        "import nltk\n",
        "from nltk.corpus import stopwords\n",
        "\n",
        "from sklearn.preprocessing import MultiLabelBinarizer\n",
        "\n",
        "from collections import OrderedDict\n",
        "\n",
        "# useful during debugging (progress bars)\n",
        "from tqdm import tqdm\n",
        "\n",
        "# typing\n",
        "from typing import List, Callable, Dict\n",
        "\n",
        "from tensorflow import keras\n",
        "from tensorflow.keras import layers\n",
        "\n",
        "import pandas as pd\n",
        "import numpy as np\n",
        "\n",
        "import matplotlib.pyplot as plt\n",
        "from sklearn.metrics import f1_score, accuracy_score\n",
        "from sklearn.metrics import classification_report\n",
        "\n",
        "from functools import partial"
      ]
    },
    {
      "cell_type": "markdown",
      "metadata": {
        "id": "1qjQ8FYc1Jfa"
      },
      "source": [
        "## **Data Preprocessing**"
      ]
    },
    {
      "cell_type": "markdown",
      "metadata": {
        "id": "QSHk1fra-_WN"
      },
      "source": [
        "### **Loading Data**"
      ]
    },
    {
      "cell_type": "markdown",
      "metadata": {
        "id": "TyNpOJJr1O4y"
      },
      "source": [
        "Load the .csv files for training, test and validation set by a simple file uploader\n"
      ]
    },
    {
      "cell_type": "code",
      "execution_count": 74,
      "metadata": {
        "colab": {
          "base_uri": "https://localhost:8080/",
          "height": 39,
          "resources": {
            "http://localhost:8080/nbextensions/google.colab/files.js": {
              "data": "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",
              "headers": [
                [
                  "content-type",
                  "application/javascript"
                ]
              ],
              "ok": true,
              "status": 200,
              "status_text": ""
            }
          }
        },
        "id": "I75se9jZ0a-7",
        "outputId": "67c7ab5e-ff72-4326-9010-c1fd1bc4eaec"
      },
      "outputs": [
        {
          "output_type": "display_data",
          "data": {
            "text/plain": [
              "<IPython.core.display.HTML object>"
            ],
            "text/html": [
              "\n",
              "     <input type=\"file\" id=\"files-5a3c685d-8c71-464a-b31f-ca4bd5d5ec28\" name=\"files[]\" multiple disabled\n",
              "        style=\"border:none\" />\n",
              "     <output id=\"result-5a3c685d-8c71-464a-b31f-ca4bd5d5ec28\">\n",
              "      Upload widget is only available when the cell has been executed in the\n",
              "      current browser session. Please rerun this cell to enable.\n",
              "      </output>\n",
              "      <script src=\"/nbextensions/google.colab/files.js\"></script> "
            ]
          },
          "metadata": {}
        }
      ],
      "source": [
        "# load files using file uploader\n",
        "from google.colab import files\n",
        "uploaded = files.upload()"
      ]
    },
    {
      "cell_type": "markdown",
      "metadata": {
        "id": "w6PLsIS4_EE2"
      },
      "source": [
        "### **Data Exploration**"
      ]
    },
    {
      "cell_type": "markdown",
      "metadata": {
        "id": "wgSHu-Fl2Ysu"
      },
      "source": [
        "Let's look a bit into our data"
      ]
    },
    {
      "cell_type": "code",
      "execution_count": 75,
      "metadata": {
        "colab": {
          "base_uri": "https://localhost:8080/",
          "height": 363
        },
        "id": "Njewge2a1qZH",
        "outputId": "2a2f204f-b2a5-4438-80c4-bfb51c7e1dec"
      },
      "outputs": [
        {
          "output_type": "execute_result",
          "data": {
            "text/plain": [
              "                                                Text   Emotion       Id\n",
              "0  My favourite food is anything I didn't have to...   neutral  eebbqej\n",
              "1  Now if he does off himself, everyone will thin...   neutral  ed00q6i\n",
              "2                     WHY THE FUCK IS BAYLESS ISOING     anger  eezlygj\n",
              "3                        To make her feel threatened      fear  ed7ypvh\n",
              "4                             Dirty Southern Wankers     anger  ed0bdzj\n",
              "5  OmG pEyToN iSn'T gOoD eNoUgH tO hElP uS iN tHe...  surprise  edvnz26\n",
              "6  Yes I heard abt the f bombs! That has to be wh...       joy  ee3b6wu\n",
              "7  We need more boards and to create a bit more s...       joy  ef4qmod\n",
              "8  Damn youtube and outrage drama is super lucrat...       joy  ed8wbdn\n",
              "9  It might be linked to the trust factor of your...   neutral  eczgv1o"
            ],
            "text/html": [
              "\n",
              "  <div id=\"df-3573b9aa-d61e-40a4-8dda-40cd40e8980d\">\n",
              "    <div class=\"colab-df-container\">\n",
              "      <div>\n",
              "<style scoped>\n",
              "    .dataframe tbody tr th:only-of-type {\n",
              "        vertical-align: middle;\n",
              "    }\n",
              "\n",
              "    .dataframe tbody tr th {\n",
              "        vertical-align: top;\n",
              "    }\n",
              "\n",
              "    .dataframe thead th {\n",
              "        text-align: right;\n",
              "    }\n",
              "</style>\n",
              "<table border=\"1\" class=\"dataframe\">\n",
              "  <thead>\n",
              "    <tr style=\"text-align: right;\">\n",
              "      <th></th>\n",
              "      <th>Text</th>\n",
              "      <th>Emotion</th>\n",
              "      <th>Id</th>\n",
              "    </tr>\n",
              "  </thead>\n",
              "  <tbody>\n",
              "    <tr>\n",
              "      <th>0</th>\n",
              "      <td>My favourite food is anything I didn't have to...</td>\n",
              "      <td>neutral</td>\n",
              "      <td>eebbqej</td>\n",
              "    </tr>\n",
              "    <tr>\n",
              "      <th>1</th>\n",
              "      <td>Now if he does off himself, everyone will thin...</td>\n",
              "      <td>neutral</td>\n",
              "      <td>ed00q6i</td>\n",
              "    </tr>\n",
              "    <tr>\n",
              "      <th>2</th>\n",
              "      <td>WHY THE FUCK IS BAYLESS ISOING</td>\n",
              "      <td>anger</td>\n",
              "      <td>eezlygj</td>\n",
              "    </tr>\n",
              "    <tr>\n",
              "      <th>3</th>\n",
              "      <td>To make her feel threatened</td>\n",
              "      <td>fear</td>\n",
              "      <td>ed7ypvh</td>\n",
              "    </tr>\n",
              "    <tr>\n",
              "      <th>4</th>\n",
              "      <td>Dirty Southern Wankers</td>\n",
              "      <td>anger</td>\n",
              "      <td>ed0bdzj</td>\n",
              "    </tr>\n",
              "    <tr>\n",
              "      <th>5</th>\n",
              "      <td>OmG pEyToN iSn'T gOoD eNoUgH tO hElP uS iN tHe...</td>\n",
              "      <td>surprise</td>\n",
              "      <td>edvnz26</td>\n",
              "    </tr>\n",
              "    <tr>\n",
              "      <th>6</th>\n",
              "      <td>Yes I heard abt the f bombs! That has to be wh...</td>\n",
              "      <td>joy</td>\n",
              "      <td>ee3b6wu</td>\n",
              "    </tr>\n",
              "    <tr>\n",
              "      <th>7</th>\n",
              "      <td>We need more boards and to create a bit more s...</td>\n",
              "      <td>joy</td>\n",
              "      <td>ef4qmod</td>\n",
              "    </tr>\n",
              "    <tr>\n",
              "      <th>8</th>\n",
              "      <td>Damn youtube and outrage drama is super lucrat...</td>\n",
              "      <td>joy</td>\n",
              "      <td>ed8wbdn</td>\n",
              "    </tr>\n",
              "    <tr>\n",
              "      <th>9</th>\n",
              "      <td>It might be linked to the trust factor of your...</td>\n",
              "      <td>neutral</td>\n",
              "      <td>eczgv1o</td>\n",
              "    </tr>\n",
              "  </tbody>\n",
              "</table>\n",
              "</div>\n",
              "      <button class=\"colab-df-convert\" onclick=\"convertToInteractive('df-3573b9aa-d61e-40a4-8dda-40cd40e8980d')\"\n",
              "              title=\"Convert this dataframe to an interactive table.\"\n",
              "              style=\"display:none;\">\n",
              "        \n",
              "  <svg xmlns=\"http://www.w3.org/2000/svg\" height=\"24px\"viewBox=\"0 0 24 24\"\n",
              "       width=\"24px\">\n",
              "    <path d=\"M0 0h24v24H0V0z\" fill=\"none\"/>\n",
              "    <path d=\"M18.56 5.44l.94 2.06.94-2.06 2.06-.94-2.06-.94-.94-2.06-.94 2.06-2.06.94zm-11 1L8.5 8.5l.94-2.06 2.06-.94-2.06-.94L8.5 2.5l-.94 2.06-2.06.94zm10 10l.94 2.06.94-2.06 2.06-.94-2.06-.94-.94-2.06-.94 2.06-2.06.94z\"/><path d=\"M17.41 7.96l-1.37-1.37c-.4-.4-.92-.59-1.43-.59-.52 0-1.04.2-1.43.59L10.3 9.45l-7.72 7.72c-.78.78-.78 2.05 0 2.83L4 21.41c.39.39.9.59 1.41.59.51 0 1.02-.2 1.41-.59l7.78-7.78 2.81-2.81c.8-.78.8-2.07 0-2.86zM5.41 20L4 18.59l7.72-7.72 1.47 1.35L5.41 20z\"/>\n",
              "  </svg>\n",
              "      </button>\n",
              "      \n",
              "  <style>\n",
              "    .colab-df-container {\n",
              "      display:flex;\n",
              "      flex-wrap:wrap;\n",
              "      gap: 12px;\n",
              "    }\n",
              "\n",
              "    .colab-df-convert {\n",
              "      background-color: #E8F0FE;\n",
              "      border: none;\n",
              "      border-radius: 50%;\n",
              "      cursor: pointer;\n",
              "      display: none;\n",
              "      fill: #1967D2;\n",
              "      height: 32px;\n",
              "      padding: 0 0 0 0;\n",
              "      width: 32px;\n",
              "    }\n",
              "\n",
              "    .colab-df-convert:hover {\n",
              "      background-color: #E2EBFA;\n",
              "      box-shadow: 0px 1px 2px rgba(60, 64, 67, 0.3), 0px 1px 3px 1px rgba(60, 64, 67, 0.15);\n",
              "      fill: #174EA6;\n",
              "    }\n",
              "\n",
              "    [theme=dark] .colab-df-convert {\n",
              "      background-color: #3B4455;\n",
              "      fill: #D2E3FC;\n",
              "    }\n",
              "\n",
              "    [theme=dark] .colab-df-convert:hover {\n",
              "      background-color: #434B5C;\n",
              "      box-shadow: 0px 1px 3px 1px rgba(0, 0, 0, 0.15);\n",
              "      filter: drop-shadow(0px 1px 2px rgba(0, 0, 0, 0.3));\n",
              "      fill: #FFFFFF;\n",
              "    }\n",
              "  </style>\n",
              "\n",
              "      <script>\n",
              "        const buttonEl =\n",
              "          document.querySelector('#df-3573b9aa-d61e-40a4-8dda-40cd40e8980d button.colab-df-convert');\n",
              "        buttonEl.style.display =\n",
              "          google.colab.kernel.accessAllowed ? 'block' : 'none';\n",
              "\n",
              "        async function convertToInteractive(key) {\n",
              "          const element = document.querySelector('#df-3573b9aa-d61e-40a4-8dda-40cd40e8980d');\n",
              "          const dataTable =\n",
              "            await google.colab.kernel.invokeFunction('convertToInteractive',\n",
              "                                                     [key], {});\n",
              "          if (!dataTable) return;\n",
              "\n",
              "          const docLinkHtml = 'Like what you see? Visit the ' +\n",
              "            '<a target=\"_blank\" href=https://colab.research.google.com/notebooks/data_table.ipynb>data table notebook</a>'\n",
              "            + ' to learn more about interactive tables.';\n",
              "          element.innerHTML = '';\n",
              "          dataTable['output_type'] = 'display_data';\n",
              "          await google.colab.output.renderOutput(dataTable, element);\n",
              "          const docLink = document.createElement('div');\n",
              "          docLink.innerHTML = docLinkHtml;\n",
              "          element.appendChild(docLink);\n",
              "        }\n",
              "      </script>\n",
              "    </div>\n",
              "  </div>\n",
              "  "
            ]
          },
          "metadata": {},
          "execution_count": 75
        }
      ],
      "source": [
        "train_set = pd.read_csv('train_ekmann.csv')\n",
        "test_set = pd.read_csv('test_ekmann.csv')\n",
        "val_set = pd.read_csv('val_ekmann.csv')\n",
        "\n",
        "train_set.head(10)"
      ]
    },
    {
      "cell_type": "markdown",
      "metadata": {
        "id": "zymVKH5O2Z7v"
      },
      "source": [
        "So, our data are composed by some Text labelled with an Emotion and an alphanumeric Id. Let's see how much data we have for each emotion in our training set"
      ]
    },
    {
      "cell_type": "code",
      "execution_count": 76,
      "metadata": {
        "colab": {
          "base_uri": "https://localhost:8080/"
        },
        "id": "gKKUls5P9-Mw",
        "outputId": "e1a144d8-a4f9-4f71-dace-3f386c0ab55d"
      },
      "outputs": [
        {
          "output_type": "execute_result",
          "data": {
            "text/plain": [
              "joy         16217\n",
              "neutral     13146\n",
              "surprise     5367\n",
              "anger        4293\n",
              "sadness      3058\n",
              "disgust       768\n",
              "fear          561\n",
              "Name: Emotion, dtype: int64"
            ]
          },
          "metadata": {},
          "execution_count": 76
        }
      ],
      "source": [
        "train_set['Emotion'].value_counts()"
      ]
    },
    {
      "cell_type": "markdown",
      "source": [
        "Let's try to make a plot"
      ],
      "metadata": {
        "id": "BbHi709e6OnH"
      }
    },
    {
      "cell_type": "code",
      "source": [
        "import seaborn as sns\n",
        "emotions = train_set['Emotion']\n",
        "sns.countplot(x=emotions, data=train_set);"
      ],
      "metadata": {
        "colab": {
          "base_uri": "https://localhost:8080/",
          "height": 279
        },
        "id": "WlqF7jKW6OUQ",
        "outputId": "6229c66a-9f6b-4c71-95d2-b47bbd732a2c"
      },
      "execution_count": 77,
      "outputs": [
        {
          "output_type": "display_data",
          "data": {
            "text/plain": [
              "<Figure size 432x288 with 1 Axes>"
            ],
            "image/png": "[encoded data removed]"
          },
          "metadata": {
            "needs_background": "light"
          }
        }
      ]
    },
    {
      "cell_type": "markdown",
      "source": [
        "As we can see from the value counts and the plot, the quantity of data for each emotion is not really balanced. In particular, we have a predominance of \"neutral\" and \"joy\"."
      ],
      "metadata": {
        "id": "ECqu_VJf7TzI"
      }
    },
    {
      "cell_type": "markdown",
      "source": [
        "Let's plot the text length distribution for the training set"
      ],
      "metadata": {
        "id": "uGyFsVeT7usU"
      }
    },
    {
      "cell_type": "code",
      "source": [
        "sns.histplot(train_set['Text'].apply(lambda text: len(text)), bins=30);"
      ],
      "metadata": {
        "colab": {
          "base_uri": "https://localhost:8080/",
          "height": 279
        },
        "id": "pE-WEK3J7wIK",
        "outputId": "8d2081db-8bdf-47ee-99c4-f95041e86e57"
      },
      "execution_count": 78,
      "outputs": [
        {
          "output_type": "display_data",
          "data": {
            "text/plain": [
              "<Figure size 432x288 with 1 Axes>"
            ],
            "image/png": "[encoded data removed]"
          },
          "metadata": {
            "needs_background": "light"
          }
        }
      ]
    },
    {
      "cell_type": "markdown",
      "source": [
        "So we have not really long sequencies"
      ],
      "metadata": {
        "id": "jVkqeg3mFoye"
      }
    },
    {
      "cell_type": "markdown",
      "metadata": {
        "id": "5ujQfjOZIYhB"
      },
      "source": [
        "### **Text Preprocessing**"
      ]
    },
    {
      "cell_type": "markdown",
      "metadata": {
        "id": "6E3RrN2gK40_"
      },
      "source": [
        "Now its time to make a little bit of pre-processing. I'm not doing too much pre-processing, i just lower the text, remove special characters and uncommon symbols and remove stopwords, but maintaining the negations (not, no, nor) to preserve the intention."
      ]
    },
    {
      "cell_type": "code",
      "execution_count": 79,
      "metadata": {
        "id": "pPf7tcQXIa6Y"
      },
      "outputs": [],
      "source": [
        "# Config\n",
        "\n",
        "REPLACE_BY_SPACE_RE = re.compile('[/(){}\\[\\]\\|@,;]')\n",
        "GOOD_SYMBOLS_RE = re.compile('[^0-9a-z #+_]')\n",
        "\n",
        "try:\n",
        "    stopwords = stopwords.words('english')\n",
        "    stopwords.remove('not')\n",
        "    stopwords.remove('nor')\n",
        "    stopwords.remove('no')\n",
        "    STOPWORDS = set(stopwords)\n",
        "except LookupError:\n",
        "    nltk.download('stopwords')\n",
        "    stopwords = stopwords.words('english')\n",
        "    stopwords.remove('not')\n",
        "    stopwords.remove('nor')\n",
        "    stopwords.remove('no')\n",
        "    STOPWORDS = set(stopwords)\n",
        "\n",
        "def lower(text: str) -> str:\n",
        "    \"\"\"\n",
        "    Transforms given text to lower case.\n",
        "    Example:\n",
        "    Input: 'I really like New York city'\n",
        "    Output: 'i really like new your city'\n",
        "    \"\"\"\n",
        "\n",
        "    return text.lower()\n",
        "\n",
        "def replace_special_characters(text: str) -> str:\n",
        "    \"\"\"\n",
        "    Replaces special characters, such as paranthesis,\n",
        "    with spacing character\n",
        "    \"\"\"\n",
        "\n",
        "    return REPLACE_BY_SPACE_RE.sub(' ', text)\n",
        "\n",
        "def filter_out_uncommon_symbols(text: str) -> str:\n",
        "    \"\"\"\n",
        "    Removes any special character that is not in the\n",
        "    good symbols list (check regular expression)\n",
        "    \"\"\"\n",
        "\n",
        "    return GOOD_SYMBOLS_RE.sub('', text)\n",
        "\n",
        "def remove_stopwords(text: str) -> str:\n",
        "    return ' '.join([x for x in text.split() if x and x not in STOPWORDS])\n",
        "\n",
        "\n",
        "\n",
        "PREPROCESSING_PIPELINE = [\n",
        "                          lower,\n",
        "                          replace_special_characters,\n",
        "                          filter_out_uncommon_symbols,\n",
        "                          remove_stopwords,\n",
        "                          ]\n",
        "\n",
        "# Anchor method\n",
        "\n",
        "def text_prepare(text: str,\n",
        "                 filter_methods: List[Callable[[str], str]] = None) -> str:\n",
        "    \"\"\"\n",
        "    Applies a list of pre-processing functions in sequence (reduce).\n",
        "    Note that the order is important here!\n",
        "    \"\"\"\n",
        "\n",
        "    filter_methods = filter_methods if filter_methods is not None else PREPROCESSING_PIPELINE\n",
        "\n",
        "    return reduce(lambda txt, f: f(txt), filter_methods, text)"
      ]
    },
    {
      "cell_type": "code",
      "execution_count": 80,
      "metadata": {
        "colab": {
          "base_uri": "https://localhost:8080/",
          "height": 1000
        },
        "id": "9tAEnhPSZtOm",
        "outputId": "c0a67934-5f1f-474f-cdef-9c0504108e2c"
      },
      "outputs": [
        {
          "output_type": "stream",
          "name": "stdout",
          "text": [
            "Pre-processing text...\n",
            "Pre-processing completed!\n"
          ]
        },
        {
          "output_type": "execute_result",
          "data": {
            "text/plain": [
              "                                                 Text   Emotion       Id\n",
              "0                  favourite food anything didnt cook   neutral  eebbqej\n",
              "1   everyone think hes laugh screwing people inste...   neutral  ed00q6i\n",
              "2                                 fuck bayless isoing     anger  eezlygj\n",
              "3                                make feel threatened      fear  ed7ypvh\n",
              "4                              dirty southern wankers     anger  ed0bdzj\n",
              "5   omg peyton isnt good enough help us playoffs d...  surprise  edvnz26\n",
              "6   yes heard abt f bombs thanks reply hubby anxio...       joy  ee3b6wu\n",
              "7         need boards create bit space name well good       joy  ef4qmod\n",
              "8   damn youtube outrage drama super lucrative reddit       joy  ed8wbdn\n",
              "9                    might linked trust factor friend   neutral  eczgv1o\n",
              "10         demographics dont know anybody 35 cable tv  surprise  eel6g5h\n",
              "11  aww shell probably come around eventually im s...       joy  edex4ki\n",
              "12  hello everyone im toronto well call visit pers...   neutral  ef83m1s\n",
              "13  r sleeptrain might time sleep training take lo...       joy  efh7xnk\n",
              "14  name fucking problem slightly better command e...     anger  efdqav7\n",
              "15  shit guess accidentally bought payperview boxi...   sadness  edivtm3\n",
              "16                                       thank friend       joy  eeqd04y\n",
              "17                                     fucking coward     anger  edk0z9k\n",
              "18                             retardation looks like   neutral  eeb9aft\n",
              "19       maybe thats happened great white houston zoo  surprise  eczq8zg\n",
              "20  never thought moment sometimes name sacrifice ...  surprise  efdlhs1\n",
              "21                     got bump bald spot feel dumb 3   sadness  ee4tgim\n",
              "22                                       going dishes   neutral  ee7it59\n",
              "23                                     slowing things   neutral  ed4nz06\n",
              "24                    name already released cant post   neutral  ee18uaj\n",
              "25                stupidly stubborn stubbornly stupid     anger  edkh6qo\n",
              "26                   mine apparently name giant peach   neutral  edafy84\n",
              "27                                         miss alive   sadness  ee8mzwa\n",
              "28                                       super thanks       joy  ef462jc\n",
              "29                 new study came china actually late   neutral  ee62fgk\n",
              "30  troll bro know theyre saying stupid shit mothe...     anger  eebcbcp\n",
              "31  sounds possible except key cant see missed fir...  surprise  ed7wf2c\n",
              "32                             aunt damn nerve though   neutral  edmcxu7\n",
              "33                                ok actual fuck plan  surprise  ee7ujla\n",
              "34                                    fptp referendum  surprise  edtqqyi\n",
              "35                                    happy able help       joy  efeu6uo\n",
              "36     18 hot bland blonde lady not hot blonde launch   neutral  ef81n89\n",
              "37                                  famous 34 defense       joy  ednhqdr\n",
              "38  pretty sure ive seen swings away harness weari...   sadness  ed0i62x\n",
              "39                                  feel listen music   neutral  ed6mn9k"
            ],
            "text/html": [
              "\n",
              "  <div id=\"df-a3e0e716-27fa-41a7-b2ff-74f83c45e830\">\n",
              "    <div class=\"colab-df-container\">\n",
              "      <div>\n",
              "<style scoped>\n",
              "    .dataframe tbody tr th:only-of-type {\n",
              "        vertical-align: middle;\n",
              "    }\n",
              "\n",
              "    .dataframe tbody tr th {\n",
              "        vertical-align: top;\n",
              "    }\n",
              "\n",
              "    .dataframe thead th {\n",
              "        text-align: right;\n",
              "    }\n",
              "</style>\n",
              "<table border=\"1\" class=\"dataframe\">\n",
              "  <thead>\n",
              "    <tr style=\"text-align: right;\">\n",
              "      <th></th>\n",
              "      <th>Text</th>\n",
              "      <th>Emotion</th>\n",
              "      <th>Id</th>\n",
              "    </tr>\n",
              "  </thead>\n",
              "  <tbody>\n",
              "    <tr>\n",
              "      <th>0</th>\n",
              "      <td>favourite food anything didnt cook</td>\n",
              "      <td>neutral</td>\n",
              "      <td>eebbqej</td>\n",
              "    </tr>\n",
              "    <tr>\n",
              "      <th>1</th>\n",
              "      <td>everyone think hes laugh screwing people inste...</td>\n",
              "      <td>neutral</td>\n",
              "      <td>ed00q6i</td>\n",
              "    </tr>\n",
              "    <tr>\n",
              "      <th>2</th>\n",
              "      <td>fuck bayless isoing</td>\n",
              "      <td>anger</td>\n",
              "      <td>eezlygj</td>\n",
              "    </tr>\n",
              "    <tr>\n",
              "      <th>3</th>\n",
              "      <td>make feel threatened</td>\n",
              "      <td>fear</td>\n",
              "      <td>ed7ypvh</td>\n",
              "    </tr>\n",
              "    <tr>\n",
              "      <th>4</th>\n",
              "      <td>dirty southern wankers</td>\n",
              "      <td>anger</td>\n",
              "      <td>ed0bdzj</td>\n",
              "    </tr>\n",
              "    <tr>\n",
              "      <th>5</th>\n",
              "      <td>omg peyton isnt good enough help us playoffs d...</td>\n",
              "      <td>surprise</td>\n",
              "      <td>edvnz26</td>\n",
              "    </tr>\n",
              "    <tr>\n",
              "      <th>6</th>\n",
              "      <td>yes heard abt f bombs thanks reply hubby anxio...</td>\n",
              "      <td>joy</td>\n",
              "      <td>ee3b6wu</td>\n",
              "    </tr>\n",
              "    <tr>\n",
              "      <th>7</th>\n",
              "      <td>need boards create bit space name well good</td>\n",
              "      <td>joy</td>\n",
              "      <td>ef4qmod</td>\n",
              "    </tr>\n",
              "    <tr>\n",
              "      <th>8</th>\n",
              "      <td>damn youtube outrage drama super lucrative reddit</td>\n",
              "      <td>joy</td>\n",
              "      <td>ed8wbdn</td>\n",
              "    </tr>\n",
              "    <tr>\n",
              "      <th>9</th>\n",
              "      <td>might linked trust factor friend</td>\n",
              "      <td>neutral</td>\n",
              "      <td>eczgv1o</td>\n",
              "    </tr>\n",
              "    <tr>\n",
              "      <th>10</th>\n",
              "      <td>demographics dont know anybody 35 cable tv</td>\n",
              "      <td>surprise</td>\n",
              "      <td>eel6g5h</td>\n",
              "    </tr>\n",
              "    <tr>\n",
              "      <th>11</th>\n",
              "      <td>aww shell probably come around eventually im s...</td>\n",
              "      <td>joy</td>\n",
              "      <td>edex4ki</td>\n",
              "    </tr>\n",
              "    <tr>\n",
              "      <th>12</th>\n",
              "      <td>hello everyone im toronto well call visit pers...</td>\n",
              "      <td>neutral</td>\n",
              "      <td>ef83m1s</td>\n",
              "    </tr>\n",
              "    <tr>\n",
              "      <th>13</th>\n",
              "      <td>r sleeptrain might time sleep training take lo...</td>\n",
              "      <td>joy</td>\n",
              "      <td>efh7xnk</td>\n",
              "    </tr>\n",
              "    <tr>\n",
              "      <th>14</th>\n",
              "      <td>name fucking problem slightly better command e...</td>\n",
              "      <td>anger</td>\n",
              "      <td>efdqav7</td>\n",
              "    </tr>\n",
              "    <tr>\n",
              "      <th>15</th>\n",
              "      <td>shit guess accidentally bought payperview boxi...</td>\n",
              "      <td>sadness</td>\n",
              "      <td>edivtm3</td>\n",
              "    </tr>\n",
              "    <tr>\n",
              "      <th>16</th>\n",
              "      <td>thank friend</td>\n",
              "      <td>joy</td>\n",
              "      <td>eeqd04y</td>\n",
              "    </tr>\n",
              "    <tr>\n",
              "      <th>17</th>\n",
              "      <td>fucking coward</td>\n",
              "      <td>anger</td>\n",
              "      <td>edk0z9k</td>\n",
              "    </tr>\n",
              "    <tr>\n",
              "      <th>18</th>\n",
              "      <td>retardation looks like</td>\n",
              "      <td>neutral</td>\n",
              "      <td>eeb9aft</td>\n",
              "    </tr>\n",
              "    <tr>\n",
              "      <th>19</th>\n",
              "      <td>maybe thats happened great white houston zoo</td>\n",
              "      <td>surprise</td>\n",
              "      <td>eczq8zg</td>\n",
              "    </tr>\n",
              "    <tr>\n",
              "      <th>20</th>\n",
              "      <td>never thought moment sometimes name sacrifice ...</td>\n",
              "      <td>surprise</td>\n",
              "      <td>efdlhs1</td>\n",
              "    </tr>\n",
              "    <tr>\n",
              "      <th>21</th>\n",
              "      <td>got bump bald spot feel dumb 3</td>\n",
              "      <td>sadness</td>\n",
              "      <td>ee4tgim</td>\n",
              "    </tr>\n",
              "    <tr>\n",
              "      <th>22</th>\n",
              "      <td>going dishes</td>\n",
              "      <td>neutral</td>\n",
              "      <td>ee7it59</td>\n",
              "    </tr>\n",
              "    <tr>\n",
              "      <th>23</th>\n",
              "      <td>slowing things</td>\n",
              "      <td>neutral</td>\n",
              "      <td>ed4nz06</td>\n",
              "    </tr>\n",
              "    <tr>\n",
              "      <th>24</th>\n",
              "      <td>name already released cant post</td>\n",
              "      <td>neutral</td>\n",
              "      <td>ee18uaj</td>\n",
              "    </tr>\n",
              "    <tr>\n",
              "      <th>25</th>\n",
              "      <td>stupidly stubborn stubbornly stupid</td>\n",
              "      <td>anger</td>\n",
              "      <td>edkh6qo</td>\n",
              "    </tr>\n",
              "    <tr>\n",
              "      <th>26</th>\n",
              "      <td>mine apparently name giant peach</td>\n",
              "      <td>neutral</td>\n",
              "      <td>edafy84</td>\n",
              "    </tr>\n",
              "    <tr>\n",
              "      <th>27</th>\n",
              "      <td>miss alive</td>\n",
              "      <td>sadness</td>\n",
              "      <td>ee8mzwa</td>\n",
              "    </tr>\n",
              "    <tr>\n",
              "      <th>28</th>\n",
              "      <td>super thanks</td>\n",
              "      <td>joy</td>\n",
              "      <td>ef462jc</td>\n",
              "    </tr>\n",
              "    <tr>\n",
              "      <th>29</th>\n",
              "      <td>new study came china actually late</td>\n",
              "      <td>neutral</td>\n",
              "      <td>ee62fgk</td>\n",
              "    </tr>\n",
              "    <tr>\n",
              "      <th>30</th>\n",
              "      <td>troll bro know theyre saying stupid shit mothe...</td>\n",
              "      <td>anger</td>\n",
              "      <td>eebcbcp</td>\n",
              "    </tr>\n",
              "    <tr>\n",
              "      <th>31</th>\n",
              "      <td>sounds possible except key cant see missed fir...</td>\n",
              "      <td>surprise</td>\n",
              "      <td>ed7wf2c</td>\n",
              "    </tr>\n",
              "    <tr>\n",
              "      <th>32</th>\n",
              "      <td>aunt damn nerve though</td>\n",
              "      <td>neutral</td>\n",
              "      <td>edmcxu7</td>\n",
              "    </tr>\n",
              "    <tr>\n",
              "      <th>33</th>\n",
              "      <td>ok actual fuck plan</td>\n",
              "      <td>surprise</td>\n",
              "      <td>ee7ujla</td>\n",
              "    </tr>\n",
              "    <tr>\n",
              "      <th>34</th>\n",
              "      <td>fptp referendum</td>\n",
              "      <td>surprise</td>\n",
              "      <td>edtqqyi</td>\n",
              "    </tr>\n",
              "    <tr>\n",
              "      <th>35</th>\n",
              "      <td>happy able help</td>\n",
              "      <td>joy</td>\n",
              "      <td>efeu6uo</td>\n",
              "    </tr>\n",
              "    <tr>\n",
              "      <th>36</th>\n",
              "      <td>18 hot bland blonde lady not hot blonde launch</td>\n",
              "      <td>neutral</td>\n",
              "      <td>ef81n89</td>\n",
              "    </tr>\n",
              "    <tr>\n",
              "      <th>37</th>\n",
              "      <td>famous 34 defense</td>\n",
              "      <td>joy</td>\n",
              "      <td>ednhqdr</td>\n",
              "    </tr>\n",
              "    <tr>\n",
              "      <th>38</th>\n",
              "      <td>pretty sure ive seen swings away harness weari...</td>\n",
              "      <td>sadness</td>\n",
              "      <td>ed0i62x</td>\n",
              "    </tr>\n",
              "    <tr>\n",
              "      <th>39</th>\n",
              "      <td>feel listen music</td>\n",
              "      <td>neutral</td>\n",
              "      <td>ed6mn9k</td>\n",
              "    </tr>\n",
              "  </tbody>\n",
              "</table>\n",
              "</div>\n",
              "      <button class=\"colab-df-convert\" onclick=\"convertToInteractive('df-a3e0e716-27fa-41a7-b2ff-74f83c45e830')\"\n",
              "              title=\"Convert this dataframe to an interactive table.\"\n",
              "              style=\"display:none;\">\n",
              "        \n",
              "  <svg xmlns=\"http://www.w3.org/2000/svg\" height=\"24px\"viewBox=\"0 0 24 24\"\n",
              "       width=\"24px\">\n",
              "    <path d=\"M0 0h24v24H0V0z\" fill=\"none\"/>\n",
              "    <path d=\"M18.56 5.44l.94 2.06.94-2.06 2.06-.94-2.06-.94-.94-2.06-.94 2.06-2.06.94zm-11 1L8.5 8.5l.94-2.06 2.06-.94-2.06-.94L8.5 2.5l-.94 2.06-2.06.94zm10 10l.94 2.06.94-2.06 2.06-.94-2.06-.94-.94-2.06-.94 2.06-2.06.94z\"/><path d=\"M17.41 7.96l-1.37-1.37c-.4-.4-.92-.59-1.43-.59-.52 0-1.04.2-1.43.59L10.3 9.45l-7.72 7.72c-.78.78-.78 2.05 0 2.83L4 21.41c.39.39.9.59 1.41.59.51 0 1.02-.2 1.41-.59l7.78-7.78 2.81-2.81c.8-.78.8-2.07 0-2.86zM5.41 20L4 18.59l7.72-7.72 1.47 1.35L5.41 20z\"/>\n",
              "  </svg>\n",
              "      </button>\n",
              "      \n",
              "  <style>\n",
              "    .colab-df-container {\n",
              "      display:flex;\n",
              "      flex-wrap:wrap;\n",
              "      gap: 12px;\n",
              "    }\n",
              "\n",
              "    .colab-df-convert {\n",
              "      background-color: #E8F0FE;\n",
              "      border: none;\n",
              "      border-radius: 50%;\n",
              "      cursor: pointer;\n",
              "      display: none;\n",
              "      fill: #1967D2;\n",
              "      height: 32px;\n",
              "      padding: 0 0 0 0;\n",
              "      width: 32px;\n",
              "    }\n",
              "\n",
              "    .colab-df-convert:hover {\n",
              "      background-color: #E2EBFA;\n",
              "      box-shadow: 0px 1px 2px rgba(60, 64, 67, 0.3), 0px 1px 3px 1px rgba(60, 64, 67, 0.15);\n",
              "      fill: #174EA6;\n",
              "    }\n",
              "\n",
              "    [theme=dark] .colab-df-convert {\n",
              "      background-color: #3B4455;\n",
              "      fill: #D2E3FC;\n",
              "    }\n",
              "\n",
              "    [theme=dark] .colab-df-convert:hover {\n",
              "      background-color: #434B5C;\n",
              "      box-shadow: 0px 1px 3px 1px rgba(0, 0, 0, 0.15);\n",
              "      filter: drop-shadow(0px 1px 2px rgba(0, 0, 0, 0.3));\n",
              "      fill: #FFFFFF;\n",
              "    }\n",
              "  </style>\n",
              "\n",
              "      <script>\n",
              "        const buttonEl =\n",
              "          document.querySelector('#df-a3e0e716-27fa-41a7-b2ff-74f83c45e830 button.colab-df-convert');\n",
              "        buttonEl.style.display =\n",
              "          google.colab.kernel.accessAllowed ? 'block' : 'none';\n",
              "\n",
              "        async function convertToInteractive(key) {\n",
              "          const element = document.querySelector('#df-a3e0e716-27fa-41a7-b2ff-74f83c45e830');\n",
              "          const dataTable =\n",
              "            await google.colab.kernel.invokeFunction('convertToInteractive',\n",
              "                                                     [key], {});\n",
              "          if (!dataTable) return;\n",
              "\n",
              "          const docLinkHtml = 'Like what you see? Visit the ' +\n",
              "            '<a target=\"_blank\" href=https://colab.research.google.com/notebooks/data_table.ipynb>data table notebook</a>'\n",
              "            + ' to learn more about interactive tables.';\n",
              "          element.innerHTML = '';\n",
              "          dataTable['output_type'] = 'display_data';\n",
              "          await google.colab.output.renderOutput(dataTable, element);\n",
              "          const docLink = document.createElement('div');\n",
              "          docLink.innerHTML = docLinkHtml;\n",
              "          element.appendChild(docLink);\n",
              "        }\n",
              "      </script>\n",
              "    </div>\n",
              "  </div>\n",
              "  "
            ]
          },
          "metadata": {},
          "execution_count": 80
        }
      ],
      "source": [
        "# Pre-processing\n",
        "\n",
        "print('Pre-processing text...')\n",
        "\n",
        "# Replace each sentence with its pre-processed version\n",
        "train_set['Text'] = train_set['Text'].apply(lambda txt: text_prepare(txt))\n",
        "test_set['Text'] = test_set['Text'].apply(lambda txt: text_prepare(txt))\n",
        "val_set['Text'] = val_set['Text'].apply(lambda txt: text_prepare(txt))\n",
        "\n",
        "print(\"Pre-processing completed!\")\n",
        "\n",
        "train_set.head(40)"
      ]
    },
    {
      "cell_type": "markdown",
      "source": [
        "Let's check again text length"
      ],
      "metadata": {
        "id": "WPd-2Lru8WXm"
      }
    },
    {
      "cell_type": "code",
      "source": [
        "sns.histplot(train_set['Text'].apply(lambda text: len(text)), bins=30);"
      ],
      "metadata": {
        "colab": {
          "base_uri": "https://localhost:8080/",
          "height": 279
        },
        "id": "z1W6dMSq8V6Z",
        "outputId": "cdc6d128-8d39-4e44-ecab-df81efb4ebd0"
      },
      "execution_count": 81,
      "outputs": [
        {
          "output_type": "display_data",
          "data": {
            "text/plain": [
              "<Figure size 432x288 with 1 Axes>"
            ],
            "image/png": "[encoded data removed]"
          },
          "metadata": {
            "needs_background": "light"
          }
        }
      ]
    },
    {
      "cell_type": "markdown",
      "source": [
        "As we could expect, our sequencies are now shorter"
      ],
      "metadata": {
        "id": "V9RQp-ixHfUp"
      }
    },
    {
      "cell_type": "markdown",
      "metadata": {
        "id": "OFESNBadlepV"
      },
      "source": [
        "We now split our dataset into data and labels"
      ]
    },
    {
      "cell_type": "code",
      "execution_count": 82,
      "metadata": {
        "colab": {
          "base_uri": "https://localhost:8080/"
        },
        "id": "OoLIxqnylfwU",
        "outputId": "9f295034-7832-4413-9cda-4d4b98cd8526"
      },
      "outputs": [
        {
          "output_type": "stream",
          "name": "stdout",
          "text": [
            "Dataset splits statistics: \n",
            "Train data:  (43410,)\n",
            "Validation data:  (5426,)\n",
            "Test data:  (5427,)\n"
          ]
        }
      ],
      "source": [
        "x_train = train_set['Text'].values\n",
        "y_train = train_set['Emotion'].values\n",
        "\n",
        "x_test = test_set['Text'].values\n",
        "y_test = test_set['Emotion'].values\n",
        "\n",
        "x_val = val_set['Text'].values\n",
        "y_val = val_set['Emotion'].values\n",
        "\n",
        "print('Dataset splits statistics: ')\n",
        "print('Train data: ', x_train.shape)\n",
        "print('Validation data: ', x_val.shape)\n",
        "print('Test data: ', x_test.shape)"
      ]
    },
    {
      "cell_type": "markdown",
      "metadata": {
        "id": "vC40UrLzckEr"
      },
      "source": [
        "### **Tokenization**"
      ]
    },
    {
      "cell_type": "markdown",
      "metadata": {
        "id": "JqYZelNWdC0c"
      },
      "source": [
        "Loading Embedding Model"
      ]
    },
    {
      "cell_type": "code",
      "execution_count": 83,
      "metadata": {
        "id": "AIoWFwyAFmIg"
      },
      "outputs": [],
      "source": [
        "import gensim\n",
        "import gensim.downloader as gloader\n",
        "\n",
        "def load_embedding_model(model_type: str,\n",
        "                         embedding_dimension: int = 50) -> gensim.models.keyedvectors.KeyedVectors:\n",
        "    \"\"\"\n",
        "    Loads a pre-trained word embedding model via gensim library.\n",
        "\n",
        "    :param model_type: name of the word embedding model to load.\n",
        "    :param embedding_dimension: size of the embedding space to consider\n",
        "\n",
        "    :return\n",
        "        - pre-trained word embedding model (gensim KeyedVectors object)\n",
        "    \"\"\"\n",
        "\n",
        "    download_path = \"\"\n",
        "\n",
        "    # Find the correct embedding model name\n",
        "    if model_type.strip().lower() == 'word2vec':\n",
        "        download_path = \"word2vec-google-news-300\"\n",
        "\n",
        "    elif model_type.strip().lower() == 'glove':\n",
        "        download_path = \"glove-wiki-gigaword-{}\".format(embedding_dimension)\n",
        "    elif model_type.strip().lower() == 'fasttext':\n",
        "        download_path = \"fasttext-wiki-news-subwords-300\"\n",
        "    else:\n",
        "        raise AttributeError(\"Unsupported embedding model type! Available ones: word2vec, glove, fasttext\")\n",
        "\n",
        "    # Check download\n",
        "    try:\n",
        "        emb_model = gloader.load(download_path)\n",
        "    except ValueError as e:\n",
        "        print(\"Invalid embedding model name! Check the embedding dimension:\")\n",
        "        print(\"Word2Vec: 300\")\n",
        "        print(\"Glove: 50, 100, 200, 300\")\n",
        "        raise e\n",
        "\n",
        "    return emb_model\n",
        "\n",
        "\n",
        "# Modify these variables as you wish!\n",
        "# Glove -> 50, 100, 200, 300\n",
        "# Word2Vec -> 300\n",
        "# Fasttext -> 300"
      ]
    },
    {
      "cell_type": "markdown",
      "metadata": {
        "id": "tzRe_S8zdPUk"
      },
      "source": [
        "Checking OOV terms"
      ]
    },
    {
      "cell_type": "code",
      "execution_count": 84,
      "metadata": {
        "id": "8s86gnQmFp-q"
      },
      "outputs": [],
      "source": [
        "# Function definition\n",
        "\n",
        "def check_OOV_terms(embedding_model: gensim.models.keyedvectors.KeyedVectors,\n",
        "                    word_listing: List[str]):\n",
        "    \"\"\"\n",
        "    Checks differences between pre-trained embedding model vocabulary\n",
        "    and dataset specific vocabulary in order to highlight out-of-vocabulary terms.\n",
        "\n",
        "    :param embedding_model: pre-trained word embedding model (gensim wrapper)\n",
        "    :param word_listing: dataset specific vocabulary (list)\n",
        "\n",
        "    :return\n",
        "        - list of OOV terms\n",
        "    \"\"\"\n",
        "\n",
        "    embedding_vocabulary = set(embedding_model.vocab.keys())\n",
        "    oov = set(word_listing).difference(embedding_vocabulary)\n",
        "    return list(oov)"
      ]
    },
    {
      "cell_type": "markdown",
      "metadata": {
        "id": "tm3QpQdyfwAO"
      },
      "source": [
        "Building embedding matrix"
      ]
    },
    {
      "cell_type": "code",
      "execution_count": 85,
      "metadata": {
        "id": "ks3PUZeyFuYB"
      },
      "outputs": [],
      "source": [
        "# Function definition\n",
        "\n",
        "def build_embedding_matrix(embedding_model: gensim.models.keyedvectors.KeyedVectors,\n",
        "                           embedding_dimension: int,\n",
        "                           word_to_idx: Dict[str, int],\n",
        "                           vocab_size: int,\n",
        "                           oov_terms: List[str]) -> np.ndarray:\n",
        "    \"\"\"\n",
        "    Builds the embedding matrix of a specific dataset given a pre-trained word embedding model\n",
        "\n",
        "    :param embedding_model: pre-trained word embedding model (gensim wrapper)\n",
        "    :param word_to_idx: vocabulary map (word -> index) (dict)\n",
        "    :param vocab_size: size of the vocabulary\n",
        "    :param oov_terms: list of OOV terms (list)\n",
        "\n",
        "    :return\n",
        "        - embedding matrix that assigns a high dimensional vector to each word in the dataset specific vocabulary (shape |V| x d)\n",
        "    \"\"\"\n",
        "\n",
        "    embedding_matrix = np.zeros((vocab_size, embedding_dimension), dtype=np.float32)\n",
        "\n",
        "    for word, idx in tqdm(word_to_idx.items()):\n",
        "        try:\n",
        "            embedding_vector = embedding_model[word]\n",
        "        except (KeyError, TypeError):\n",
        "            embedding_vector = np.random.uniform(low=-0.05, high=0.05, size=embedding_dimension)\n",
        "\n",
        "        embedding_matrix[idx] = embedding_vector\n",
        "\n",
        "    return embedding_matrix"
      ]
    },
    {
      "cell_type": "markdown",
      "source": [
        "For tokenization i used the Keras Tokenizer, defining a simple high-level wrapper for the 'KerasTokenizer' class, which uses the functions i defined to build get the pre-trained embeddings, checking OOV terms and build the embedding matrix."
      ],
      "metadata": {
        "id": "T77I6KuyauUY"
      }
    },
    {
      "cell_type": "code",
      "execution_count": 86,
      "metadata": {
        "id": "CweXSsVUL85n"
      },
      "outputs": [],
      "source": [
        "import tensorflow as tf\n",
        "\n",
        "from collections import OrderedDict\n",
        "\n",
        "class KerasTokenizer(object):\n",
        "    \"\"\"\n",
        "    A simple high-level wrapper for the Keras tokenizer.\n",
        "    \"\"\"\n",
        "\n",
        "    def __init__(self, build_embedding_matrix=False, embedding_dimension=None,\n",
        "                 embedding_model_type=None, tokenizer_args=None):\n",
        "        if build_embedding_matrix:\n",
        "            assert embedding_model_type is not None\n",
        "            assert embedding_dimension is not None and type(embedding_dimension) == int\n",
        "\n",
        "        self.build_embedding_matrix = build_embedding_matrix\n",
        "        self.embedding_dimension = embedding_dimension\n",
        "        self.embedding_model_type = embedding_model_type\n",
        "        self.embedding_model = None\n",
        "        self.embedding_matrix = None\n",
        "        self.vocab = None\n",
        "\n",
        "        tokenizer_args = {} if tokenizer_args is None else tokenizer_args\n",
        "        assert isinstance(tokenizer_args, dict) or isinstance(tokenizer_args, collections.OrderedDict)\n",
        "\n",
        "        self.tokenizer_args = tokenizer_args\n",
        "\n",
        "    def build_vocab(self, data, **kwargs):\n",
        "        print('Fitting tokenizer...')\n",
        "        self.tokenizer = tf.keras.preprocessing.text.Tokenizer(**self.tokenizer_args)\n",
        "        self.tokenizer.fit_on_texts(data)\n",
        "        print('Fit completed!')\n",
        "\n",
        "        self.vocab = self.tokenizer.word_index\n",
        "\n",
        "        if self.build_embedding_matrix:\n",
        "            print('Loading embedding model! It may take a while...')\n",
        "            self.embedding_model = load_embedding_model(model_type=self.embedding_model_type,\n",
        "                                                        embedding_dimension=self.embedding_dimension)\n",
        "            \n",
        "            print('Checking OOV terms...')\n",
        "            self.oov_terms = check_OOV_terms(embedding_model=self.embedding_model,\n",
        "                                             word_listing=list(self.vocab.keys()))\n",
        "\n",
        "            print('Building the embedding matrix...')\n",
        "            self.embedding_matrix = build_embedding_matrix(embedding_model=self.embedding_model,\n",
        "                                                           word_to_idx=self.vocab,\n",
        "                                                           vocab_size=len(self.vocab) + 1,          \n",
        "                                                           embedding_dimension=self.embedding_dimension,\n",
        "                                                           oov_terms=self.oov_terms)\n",
        "            print('Done!')\n",
        "\n",
        "\n",
        "    def get_info(self):\n",
        "        return {\n",
        "            'build_embedding_matrix': self.build_embedding_matrix,\n",
        "            'embedding_dimension': self.embedding_dimension,\n",
        "            'embedding_model_type': self.embedding_model_type,\n",
        "            'embedding_matrix': self.embedding_matrix.shape if self.embedding_matrix is not None else self.embedding_matrix,\n",
        "            'embedding_model': self.embedding_model,\n",
        "            'vocab_size': len(self.vocab) + 1,\n",
        "        }\n",
        "\n",
        "    def tokenize(self, text):\n",
        "        return text\n",
        "\n",
        "    def convert_tokens_to_ids(self, tokens):\n",
        "        if type(tokens) == str:\n",
        "            return self.tokenizer.texts_to_sequences([tokens])[0]\n",
        "        else:\n",
        "            return self.tokenizer.texts_to_sequences(tokens)\n",
        "\n",
        "    def convert_ids_to_tokens(self, ids):\n",
        "        return self.tokenizer.sequences_to_texts(ids)"
      ]
    },
    {
      "cell_type": "markdown",
      "source": [
        "Now let's build our vocabulary. Here i used only the training set for simplicity and to reduce the size of the embedding matrix."
      ],
      "metadata": {
        "id": "TR5mwDLSKB22"
      }
    },
    {
      "cell_type": "code",
      "execution_count": 87,
      "metadata": {
        "colab": {
          "base_uri": "https://localhost:8080/"
        },
        "id": "02clVztic8mb",
        "outputId": "1e3cd473-1a68-4bbd-e65a-7d0f9fdb970c"
      },
      "outputs": [
        {
          "output_type": "stream",
          "name": "stdout",
          "text": [
            "Fitting tokenizer...\n",
            "Fit completed!\n",
            "Loading embedding model! It may take a while...\n",
            "Checking OOV terms...\n",
            "Building the embedding matrix...\n"
          ]
        },
        {
          "output_type": "stream",
          "name": "stderr",
          "text": [
            "100%|██████████| 27623/27623 [00:00<00:00, 221132.04it/s]"
          ]
        },
        {
          "output_type": "stream",
          "name": "stdout",
          "text": [
            "Done!\n",
            "Tokenizer info:  {'build_embedding_matrix': True, 'embedding_dimension': 300, 'embedding_model_type': 'fasttext', 'embedding_matrix': (27624, 300), 'embedding_model': <gensim.models.keyedvectors.Word2VecKeyedVectors object at 0x7f7e05ed4a10>, 'vocab_size': 27624}\n"
          ]
        },
        {
          "output_type": "stream",
          "name": "stderr",
          "text": [
            "\n"
          ]
        }
      ],
      "source": [
        "tokenizer_args = {\n",
        "    'oov_token': 1,      # The vocabulary id for unknown terms during text conversion\n",
        "}\n",
        "tokenizer = KerasTokenizer(tokenizer_args=tokenizer_args,\n",
        "                           build_embedding_matrix=True,\n",
        "                           embedding_dimension=300,\n",
        "                           embedding_model_type=\"fasttext\")\n",
        "\n",
        "tokenizer.build_vocab(x_train)\n",
        "\n",
        "tokenizer_info = tokenizer.get_info()\n",
        "\n",
        "print('Tokenizer info: ', tokenizer_info)"
      ]
    },
    {
      "cell_type": "markdown",
      "metadata": {
        "id": "DpdYk7TXh2_3"
      },
      "source": [
        "Now we have to convert input data into numerical format, and apply some padding to make sure all our inputs are of the same size. In this case i applied a global padding in order to handle the majoriry of the data."
      ]
    },
    {
      "cell_type": "code",
      "execution_count": 88,
      "metadata": {
        "colab": {
          "base_uri": "https://localhost:8080/"
        },
        "id": "19FxDv4nq20n",
        "outputId": "48f45963-91d1-4ac4-ab81-e5b8123f3092"
      },
      "outputs": [
        {
          "output_type": "stream",
          "name": "stdout",
          "text": [
            "Max token sequence: 16\n",
            "X train shape:  (43410, 16)\n",
            "Y train shape:  (43410,)\n",
            "X val shape:  (5426, 16)\n",
            "Y val shape:  (5426,)\n",
            "X test shape:  (5427, 16)\n",
            "Y test shape:  (5427,)\n"
          ]
        }
      ],
      "source": [
        "def convert_text(texts, tokenizer, is_training=False, max_seq_length=None):\n",
        "    \"\"\"\n",
        "    Converts input text sequences using a given tokenizer\n",
        "\n",
        "    :param texts: either a list or numpy ndarray of strings\n",
        "    :tokenizer: an instantiated tokenizer\n",
        "    :is_training: whether input texts are from the training split or not\n",
        "    :max_seq_length: the max token sequence previously computed with\n",
        "    training texts.\n",
        "\n",
        "    :return\n",
        "        text_ids: a nested list on token indices\n",
        "        max_seq_length: the max token sequence previously computed with\n",
        "        training texts.\n",
        "    \"\"\"\n",
        "\n",
        "    text_ids = tokenizer.convert_tokens_to_ids(texts)\n",
        "\n",
        "    # Padding\n",
        "    if is_training:\n",
        "        max_seq_length = int(np.quantile([len(seq) for seq in text_ids], 0.99))\n",
        "    else:\n",
        "        assert max_seq_length is not None\n",
        "\n",
        "    text_ids = [seq + [0] * (max_seq_length - len(seq)) for seq in text_ids]\n",
        "    text_ids = np.array([seq[:max_seq_length] for seq in text_ids])\n",
        "\n",
        "    if is_training:\n",
        "        return text_ids, max_seq_length\n",
        "    else:\n",
        "        return text_ids\n",
        "\n",
        "# Train\n",
        "x_train, max_seq_length = convert_text(x_train, tokenizer, True)\n",
        "print(\"Max token sequence: {}\".format(max_seq_length))\n",
        "\n",
        "print('X train shape: ', x_train.shape)\n",
        "print('Y train shape: ', y_train.shape)\n",
        "\n",
        "# Val\n",
        "x_val = convert_text(x_val, tokenizer, False, max_seq_length)\n",
        "\n",
        "print('X val shape: ', x_val.shape)\n",
        "print('Y val shape: ', y_val.shape)\n",
        "\n",
        "# Test\n",
        "x_test = convert_text(x_test, tokenizer, False, max_seq_length)\n",
        "\n",
        "print('X test shape: ', x_test.shape)\n",
        "print('Y test shape: ', y_test.shape)"
      ]
    },
    {
      "cell_type": "markdown",
      "metadata": {
        "id": "YTJAAQ28wWVL"
      },
      "source": [
        "Now we have to One-Hot-Encode the labels"
      ]
    },
    {
      "cell_type": "code",
      "execution_count": 89,
      "metadata": {
        "id": "fN_RBNi_zV8i"
      },
      "outputs": [],
      "source": [
        "from numpy import array\n",
        "from numpy import argmax\n",
        "from sklearn.preprocessing import LabelEncoder\n",
        "from sklearn.preprocessing import OneHotEncoder\n",
        "\n",
        "label_encoder = LabelEncoder()\n",
        "onehot_encoder = OneHotEncoder(sparse=False)\n",
        "\n",
        "def onehot_encode(label_encoder, onehot_encoder, data):\n",
        "\n",
        "  # define example\n",
        "  values = array(data)\n",
        "\n",
        "  # integer encode\n",
        "  label_encoder.fit(values)\n",
        "  integer_encoded = label_encoder.transform(data)\n",
        "\n",
        "  # binary encode\n",
        "  integer_encoded = integer_encoded.reshape(len(integer_encoded), 1)\n",
        "  onehot_encoded = onehot_encoder.fit_transform(integer_encoded)\n",
        "\n",
        "  # reshape\n",
        "  # onehot_encoded = onehot_encoded.reshape((onehot_encoded.shape[0]*onehot_encoded.shape[1],)) \n",
        "\n",
        "  return onehot_encoded\n",
        "\n",
        "y_train = onehot_encode(label_encoder, onehot_encoder, y_train)\n",
        "y_test = onehot_encode(label_encoder, onehot_encoder, y_test)\n",
        "y_val = onehot_encode(label_encoder, onehot_encoder, y_val)"
      ]
    },
    {
      "cell_type": "markdown",
      "source": [
        "Define the functions to convert the labels back to strings"
      ],
      "metadata": {
        "id": "iIgCoy45K053"
      }
    },
    {
      "cell_type": "code",
      "source": [
        "def decode_labels(labels):\n",
        "  return label_encoder.inverse_transform(\n",
        "      onehot_encoder.inverse_transform(labels))\n",
        "  \n",
        "def int_to_class(labels):\n",
        "  return label_encoder.inverse_transform(labels)"
      ],
      "metadata": {
        "id": "XVobtuW_Ic1T"
      },
      "execution_count": 90,
      "outputs": []
    },
    {
      "cell_type": "markdown",
      "metadata": {
        "id": "lePbAu3VCg6u"
      },
      "source": [
        "## **Define The Model**"
      ]
    },
    {
      "cell_type": "markdown",
      "source": [
        "For the model architecture, i have decided to use a **Bidirectional LSTM** combined with a **CNN** (Convolutional Neural Network) layer. The idea behind this approach is that the LSTM layer will grab the information about the context of the sentence and the CNN will extract local features. After that i have added a couple of Dense layers for the final classification"
      ],
      "metadata": {
        "id": "KW5pdtMtRTww"
      }
    },
    {
      "cell_type": "code",
      "execution_count": 91,
      "metadata": {
        "id": "QOZpsPlqCo08"
      },
      "outputs": [],
      "source": [
        "from keras.layers import Input, Embedding, SpatialDropout1D, LSTM\n",
        "from keras.layers import GlobalAveragePooling1D, GlobalMaxPooling1D\n",
        "from keras.layers import Bidirectional, Conv1D, Dense, concatenate\n",
        "from keras.layers.core.dropout import Dropout\n",
        "from keras.models import Model"
      ]
    },
    {
      "cell_type": "code",
      "execution_count": 92,
      "metadata": {
        "id": "-txe8027CvG9"
      },
      "outputs": [],
      "source": [
        "input_dim = tokenizer_info['vocab_size']\n",
        "num_classes = len(train_set['Emotion'].unique())\n",
        "embedding_weights = tokenizer.embedding_matrix\n",
        "embedding_dim = 300\n",
        "input_length = max_seq_length\n",
        "lstm_units = 128\n",
        "lstm_dropout = 0.2\n",
        "recurrent_dropout = 0.2\n",
        "spatial_dropout = 0.3\n",
        "filters = 64\n",
        "kernel_size = 3"
      ]
    },
    {
      "cell_type": "code",
      "source": [
        "print(embedding_weights.shape)\n",
        "print(input_dim)"
      ],
      "metadata": {
        "colab": {
          "base_uri": "https://localhost:8080/"
        },
        "id": "JQ-LBxSD6M0z",
        "outputId": "65f0c25b-a83b-4fa1-a43c-c4840973cb34"
      },
      "execution_count": 93,
      "outputs": [
        {
          "output_type": "stream",
          "name": "stdout",
          "text": [
            "(27624, 300)\n",
            "27624\n"
          ]
        }
      ]
    },
    {
      "cell_type": "code",
      "execution_count": 94,
      "metadata": {
        "id": "VGQ4aSdiCzbJ",
        "colab": {
          "base_uri": "https://localhost:8080/"
        },
        "outputId": "da79239f-ae8d-44c8-dd48-691b91dcbd64"
      },
      "outputs": [
        {
          "output_type": "stream",
          "name": "stdout",
          "text": [
            "WARNING:tensorflow:Layer lstm_3 will not use cuDNN kernels since it doesn't meet the criteria. It will use a generic GPU kernel as fallback when running on GPU.\n",
            "WARNING:tensorflow:Layer lstm_3 will not use cuDNN kernels since it doesn't meet the criteria. It will use a generic GPU kernel as fallback when running on GPU.\n",
            "WARNING:tensorflow:Layer lstm_3 will not use cuDNN kernels since it doesn't meet the criteria. It will use a generic GPU kernel as fallback when running on GPU.\n"
          ]
        }
      ],
      "source": [
        "input_layer = Input(shape=(input_length,))\n",
        "\n",
        "output_layer = Embedding(\n",
        "  input_dim=input_dim,\n",
        "  output_dim=embedding_dim,\n",
        "  input_shape=(input_length,),\n",
        "  embeddings_initializer=keras.initializers.Constant(embedding_weights),\n",
        "  trainable=False\n",
        ")(input_layer)\n",
        "\n",
        "output_layer = SpatialDropout1D(spatial_dropout)(output_layer)\n",
        "\n",
        "output_layer = Bidirectional(\n",
        "LSTM(lstm_units, return_sequences=True,\n",
        "     dropout=lstm_dropout, recurrent_dropout=recurrent_dropout)\n",
        ")(output_layer)\n",
        "\n",
        "output_layer = Conv1D(filters, kernel_size=kernel_size, padding='valid',\n",
        "                    kernel_initializer='glorot_uniform')(output_layer)\n",
        "\n",
        "avg_pool = GlobalAveragePooling1D()(output_layer)\n",
        "max_pool = GlobalMaxPooling1D()(output_layer)\n",
        "output_layer = concatenate([avg_pool, max_pool])\n",
        "\n",
        "output_layer = Dense(256, activation='relu')(output_layer)\n",
        "output_layer = Dropout(0.2)(output_layer)\n",
        "output_layer = Dense(num_classes, activation='softmax')(output_layer)\n",
        "\n",
        "model = Model(input_layer, output_layer)"
      ]
    },
    {
      "cell_type": "markdown",
      "source": [
        "Implementing a custom function for the F1-Score, since it is not available in the Keras metrics"
      ],
      "metadata": {
        "id": "_D6gcOI1-rUu"
      }
    },
    {
      "cell_type": "code",
      "source": [
        "from keras import backend as K\n",
        "\n",
        "def f1_score(y_true, y_pred):\n",
        "\n",
        "    def recall(y_true, y_pred):\n",
        "        \"\"\"Recall metric.\n",
        "\n",
        "        Only computes a batch-wise average of recall.\n",
        "\n",
        "        Computes the recall, a metric for multi-label classification of\n",
        "        how many relevant items are selected.\n",
        "        \"\"\"\n",
        "        true_positives = K.sum(K.round(K.clip(y_true * y_pred, 0, 1)))\n",
        "        possible_positives = K.sum(K.round(K.clip(y_true, 0, 1)))\n",
        "        recall = true_positives / (possible_positives + K.epsilon())\n",
        "        return recall\n",
        "\n",
        "    def precision(y_true, y_pred):\n",
        "        \"\"\"Precision metric.\n",
        "\n",
        "        Only computes a batch-wise average of precision.\n",
        "\n",
        "        Computes the precision, a metric for multi-label classification of\n",
        "        how many selected items are relevant.\n",
        "        \"\"\"\n",
        "        true_positives = K.sum(K.round(K.clip(y_true * y_pred, 0, 1)))\n",
        "        predicted_positives = K.sum(K.round(K.clip(y_pred, 0, 1)))\n",
        "        precision = true_positives / (predicted_positives + K.epsilon())\n",
        "        return precision\n",
        "\n",
        "    precision = precision(y_true, y_pred)\n",
        "    recall = recall(y_true, y_pred)\n",
        "    return 2 * ((precision * recall) / (precision + recall + K.epsilon()))"
      ],
      "metadata": {
        "id": "0BwtGPwl-tFi"
      },
      "execution_count": 95,
      "outputs": []
    },
    {
      "cell_type": "markdown",
      "source": [
        "Now is time to compile the model. I used the categorical crossentropy as a loss function and Adam as optimizer"
      ],
      "metadata": {
        "id": "ivKvmTB_R-gk"
      }
    },
    {
      "cell_type": "code",
      "execution_count": 96,
      "metadata": {
        "colab": {
          "base_uri": "https://localhost:8080/"
        },
        "id": "z98u35O4mQCT",
        "outputId": "22080acb-6a03-418e-ee79-d1acba59c422"
      },
      "outputs": [
        {
          "output_type": "stream",
          "name": "stdout",
          "text": [
            "Model: \"model_3\"\n",
            "__________________________________________________________________________________________________\n",
            " Layer (type)                   Output Shape         Param #     Connected to                     \n",
            "==================================================================================================\n",
            " input_4 (InputLayer)           [(None, 16)]         0           []                               \n",
            "                                                                                                  \n",
            " embedding_3 (Embedding)        (None, 16, 300)      8287200     ['input_4[0][0]']                \n",
            "                                                                                                  \n",
            " spatial_dropout1d_3 (SpatialDr  (None, 16, 300)     0           ['embedding_3[0][0]']            \n",
            " opout1D)                                                                                         \n",
            "                                                                                                  \n",
            " bidirectional_3 (Bidirectional  (None, 16, 256)     439296      ['spatial_dropout1d_3[0][0]']    \n",
            " )                                                                                                \n",
            "                                                                                                  \n",
            " conv1d_3 (Conv1D)              (None, 14, 64)       49216       ['bidirectional_3[0][0]']        \n",
            "                                                                                                  \n",
            " global_average_pooling1d_3 (Gl  (None, 64)          0           ['conv1d_3[0][0]']               \n",
            " obalAveragePooling1D)                                                                            \n",
            "                                                                                                  \n",
            " global_max_pooling1d_3 (Global  (None, 64)          0           ['conv1d_3[0][0]']               \n",
            " MaxPooling1D)                                                                                    \n",
            "                                                                                                  \n",
            " concatenate_3 (Concatenate)    (None, 128)          0           ['global_average_pooling1d_3[0][0\n",
            "                                                                 ]',                              \n",
            "                                                                  'global_max_pooling1d_3[0][0]'] \n",
            "                                                                                                  \n",
            " dense_6 (Dense)                (None, 256)          33024       ['concatenate_3[0][0]']          \n",
            "                                                                                                  \n",
            " dropout_3 (Dropout)            (None, 256)          0           ['dense_6[0][0]']                \n",
            "                                                                                                  \n",
            " dense_7 (Dense)                (None, 7)            1799        ['dropout_3[0][0]']              \n",
            "                                                                                                  \n",
            "==================================================================================================\n",
            "Total params: 8,810,535\n",
            "Trainable params: 523,335\n",
            "Non-trainable params: 8,287,200\n",
            "__________________________________________________________________________________________________\n"
          ]
        }
      ],
      "source": [
        "model.compile(loss='categorical_crossentropy', \n",
        "              optimizer=keras.optimizers.Adam(learning_rate=1e-03), \n",
        "              metrics=[f1_score])\n",
        "model.summary()"
      ]
    },
    {
      "cell_type": "markdown",
      "metadata": {
        "id": "zwMG-zVwmchG"
      },
      "source": [
        "## **Train the model**"
      ]
    },
    {
      "cell_type": "markdown",
      "source": [
        "Let's define the batch size and the number of training epochs"
      ],
      "metadata": {
        "id": "jM5wVjQZLLt7"
      }
    },
    {
      "cell_type": "code",
      "execution_count": 97,
      "metadata": {
        "id": "8TlZ-DhGnH8n"
      },
      "outputs": [],
      "source": [
        "batch_size = 128\n",
        "epochs = 15"
      ]
    },
    {
      "cell_type": "markdown",
      "source": [
        "I also implement an Early Stopping callback to stop the training if the value of 'val_loss' doesn't improve for some consecutive epochs"
      ],
      "metadata": {
        "id": "IU-DM-8ypEq_"
      }
    },
    {
      "cell_type": "code",
      "source": [
        "early_stopping = keras.callbacks.EarlyStopping(monitor='val_loss',\n",
        "                                              patience=5,\n",
        "                                              restore_best_weights=True)"
      ],
      "metadata": {
        "id": "1u7XvBzn5R08"
      },
      "execution_count": 98,
      "outputs": []
    },
    {
      "cell_type": "code",
      "execution_count": 99,
      "metadata": {
        "colab": {
          "base_uri": "https://localhost:8080/"
        },
        "id": "ZjNvcb8UmQw4",
        "outputId": "322b7fbc-ee35-4d6c-8eb6-8305125d740f"
      },
      "outputs": [
        {
          "output_type": "stream",
          "name": "stdout",
          "text": [
            "Epoch 1/15\n",
            "340/340 [==============================] - 50s 135ms/step - loss: 1.3046 - f1_score: 0.3847 - val_loss: 1.1421 - val_f1_score: 0.4796\n",
            "Epoch 2/15\n",
            "340/340 [==============================] - 45s 133ms/step - loss: 1.1489 - f1_score: 0.5038 - val_loss: 1.0682 - val_f1_score: 0.5247\n",
            "Epoch 3/15\n",
            "340/340 [==============================] - 45s 132ms/step - loss: 1.1049 - f1_score: 0.5246 - val_loss: 1.0336 - val_f1_score: 0.5682\n",
            "Epoch 4/15\n",
            "340/340 [==============================] - 46s 136ms/step - loss: 1.0777 - f1_score: 0.5402 - val_loss: 1.0223 - val_f1_score: 0.5929\n",
            "Epoch 5/15\n",
            "340/340 [==============================] - 45s 133ms/step - loss: 1.0605 - f1_score: 0.5501 - val_loss: 1.0121 - val_f1_score: 0.5967\n",
            "Epoch 6/15\n",
            "340/340 [==============================] - 45s 132ms/step - loss: 1.0423 - f1_score: 0.5616 - val_loss: 1.0004 - val_f1_score: 0.5900\n",
            "Epoch 7/15\n",
            "340/340 [==============================] - 45s 132ms/step - loss: 1.0277 - f1_score: 0.5688 - val_loss: 1.0049 - val_f1_score: 0.5915\n",
            "Epoch 8/15\n",
            "340/340 [==============================] - 45s 133ms/step - loss: 1.0151 - f1_score: 0.5769 - val_loss: 1.0027 - val_f1_score: 0.5894\n",
            "Epoch 9/15\n",
            "340/340 [==============================] - 46s 135ms/step - loss: 1.0063 - f1_score: 0.5800 - val_loss: 0.9913 - val_f1_score: 0.6084\n",
            "Epoch 10/15\n",
            "340/340 [==============================] - 45s 132ms/step - loss: 0.9943 - f1_score: 0.5855 - val_loss: 0.9929 - val_f1_score: 0.5959\n",
            "Epoch 11/15\n",
            "340/340 [==============================] - 45s 132ms/step - loss: 0.9863 - f1_score: 0.5931 - val_loss: 0.9815 - val_f1_score: 0.6113\n",
            "Epoch 12/15\n",
            "340/340 [==============================] - 45s 132ms/step - loss: 0.9726 - f1_score: 0.5999 - val_loss: 0.9863 - val_f1_score: 0.6100\n",
            "Epoch 13/15\n",
            "340/340 [==============================] - 45s 133ms/step - loss: 0.9604 - f1_score: 0.6044 - val_loss: 0.9921 - val_f1_score: 0.6081\n",
            "Epoch 14/15\n",
            "340/340 [==============================] - 45s 133ms/step - loss: 0.9499 - f1_score: 0.6123 - val_loss: 0.9925 - val_f1_score: 0.6140\n",
            "Epoch 15/15\n",
            "340/340 [==============================] - 47s 138ms/step - loss: 0.9402 - f1_score: 0.6144 - val_loss: 0.9933 - val_f1_score: 0.6218\n"
          ]
        }
      ],
      "source": [
        "history = model.fit(x_train, \n",
        "                    y=y_train, \n",
        "                    batch_size=batch_size, \n",
        "                    epochs=epochs, \n",
        "                    validation_data=(x_val, y_val),\n",
        "                    callbacks=[early_stopping])"
      ]
    },
    {
      "cell_type": "markdown",
      "source": [
        "Save the weights of the model"
      ],
      "metadata": {
        "id": "IDnHVYGVB9YJ"
      }
    },
    {
      "cell_type": "code",
      "source": [
        "from pathlib import Path\n",
        "\n",
        "model_file = Path('fasttext_model_weights.h5').resolve()\n",
        "model.save_weights(model_file.as_posix())"
      ],
      "metadata": {
        "id": "koH8687gB6KF"
      },
      "execution_count": 100,
      "outputs": []
    },
    {
      "cell_type": "markdown",
      "source": [
        "## **Evaluate the model**"
      ],
      "metadata": {
        "id": "t40dAxkuo7N6"
      }
    },
    {
      "cell_type": "markdown",
      "source": [
        "### **Training History**"
      ],
      "metadata": {
        "id": "8hSHwwaPPEmL"
      }
    },
    {
      "cell_type": "markdown",
      "source": [
        "Let's take a look at the training history, to see how the loss and the f1 score evolved"
      ],
      "metadata": {
        "id": "C3lcn_0fldNc"
      }
    },
    {
      "cell_type": "code",
      "metadata": {
        "id": "qHyO-DUz0mqq",
        "colab": {
          "base_uri": "https://localhost:8080/",
          "height": 591
        },
        "outputId": "87a70e3e-b302-48c1-c262-63194f241f30"
      },
      "source": [
        "import matplotlib.pyplot as plt\n",
        "from sklearn.metrics import f1_score, accuracy_score\n",
        "from functools import partial\n",
        "\n",
        "def show_history(history: keras.callbacks.History):\n",
        "    \"\"\"\n",
        "    Shows training history data stored by the History Keras callback\n",
        "\n",
        "    :param history: History Keras callback\n",
        "    \"\"\"\n",
        "\n",
        "    history_data = history.history\n",
        "    print(\"Displaying the following history keys: \", history_data.keys())\n",
        "\n",
        "    for key, value in history_data.items():\n",
        "        if not key.startswith('val'):\n",
        "            fig, ax = plt.subplots(1, 1)\n",
        "            ax.set_title(key)\n",
        "            ax.plot(value)\n",
        "            if 'val_{}'.format(key) in history_data:\n",
        "                ax.plot(history_data['val_{}'.format(key)])\n",
        "            else:\n",
        "                print(\"Couldn't find validation values for metric: \", key)\n",
        "\n",
        "            ax.set_ylabel(key)\n",
        "            ax.set_xlabel('epoch')\n",
        "            ax.legend(['train', 'val'], loc='best')\n",
        "\n",
        "    plt.show()\n",
        "\n",
        "show_history(history)"
      ],
      "execution_count": 101,
      "outputs": [
        {
          "output_type": "stream",
          "name": "stdout",
          "text": [
            "Displaying the following history keys:  dict_keys(['loss', 'f1_score', 'val_loss', 'val_f1_score'])\n"
          ]
        },
        {
          "output_type": "display_data",
          "data": {
            "text/plain": [
              "<Figure size 432x288 with 1 Axes>"
            ],
            "image/png": "[encoded data removed]"
          },
          "metadata": {
            "needs_background": "light"
          }
        },
        {
          "output_type": "display_data",
          "data": {
            "text/plain": [
              "<Figure size 432x288 with 1 Axes>"
            ],
            "image/png": "[encoded data removed]"
          },
          "metadata": {
            "needs_background": "light"
          }
        }
      ]
    },
    {
      "cell_type": "markdown",
      "source": [
        "We can see that the loss on validation set is less than loss on training set more or less up to the 10th epoch. After that, the value of val_loss remains pretty much the same (with some oscillations), while the loss on the training set keeps decreasing (slower and slower), which means overfitting on training data. Then using an higher number of epochs won't be good for generalization"
      ],
      "metadata": {
        "id": "gNrygn1HOf6J"
      }
    },
    {
      "cell_type": "markdown",
      "source": [
        "### **Testing the model**"
      ],
      "metadata": {
        "id": "YJ2rp6bqO_PO"
      }
    },
    {
      "cell_type": "markdown",
      "source": [
        "Now we test the model by making some predictions on the test set. Then we print the results using `sklearn.classification_report`, which gives us the values of F1-score for each class and computes the macro-F1, i.e. the arithmetic mean (so not weighted) of F1 scores on all classes, which the metric we're looking for"
      ],
      "metadata": {
        "id": "lWwnNp3fle4j"
      }
    },
    {
      "cell_type": "code",
      "source": [
        "# Inference\n",
        "\n",
        "y_pred = model.predict(x_test, batch_size=128, verbose=1)\n",
        "y_pred = np.argmax(y_pred, axis=1)\n",
        "y_test = np.argmax(y_test, axis=1)\n",
        "target_names = int_to_class(np.arange(7))\n",
        "print(classification_report(y_pred, y_test, target_names=target_names))"
      ],
      "metadata": {
        "colab": {
          "base_uri": "https://localhost:8080/"
        },
        "outputId": "cf9453e5-4fa6-4f1e-f091-3152af78dc88",
        "id": "30OQ-7_bIVfn"
      },
      "execution_count": 102,
      "outputs": [
        {
          "output_type": "stream",
          "name": "stdout",
          "text": [
            "43/43 [==============================] - 1s 13ms/step\n",
            "              precision    recall  f1-score   support\n",
            "\n",
            "       anger       0.38      0.49      0.42       442\n",
            "     disgust       0.47      0.53      0.50       103\n",
            "        fear       0.58      0.58      0.58        81\n",
            "         joy       0.77      0.78      0.77      1966\n",
            "     neutral       0.77      0.53      0.63      2417\n",
            "     sadness       0.45      0.66      0.53       240\n",
            "    surprise       0.19      0.71      0.29       178\n",
            "\n",
            "    accuracy                           0.63      5427\n",
            "   macro avg       0.52      0.61      0.53      5427\n",
            "weighted avg       0.70      0.63      0.65      5427\n",
            "\n"
          ]
        }
      ]
    },
    {
      "cell_type": "markdown",
      "source": [
        "As we can see, we do not achieve very good results, with a Macro-F1 of `0.53`. By looking the classification report, we can see that that's because the F1 value for some classes is really low, expecially for the `\"surprise\"` class which has an F1-score of `0.29`. One reason for this could be the small number of examples of `\"surprise\"` in our training data, which are \"only\" `5367`, with respect to `\"joy\"` which has `16217` examples instead (and it has a F1-score of `0.77` which is the highest among all classes). Indeed, we have seen at the beginning that our training set was not very balanced.\n",
        "\n",
        "By the way, it's worth to notice that `\"fear\"` and `\"disgust\"` have an F1-score (`0.58` and `0.50`, respectively) which is way higher than the one for `\"surprise\"` even if we have very few examples of them in our training set (`768` for `\"disgust\"` and `561` for `\"fear\"`). So, even if a more balanced dataset could be useful, there are maybe other reasons behind that."
      ],
      "metadata": {
        "id": "AQT4VmdpWSG7"
      }
    }
  ],
  "metadata": {
    "colab": {
      "name": "morselli_enrico_979685.ipynb",
      "provenance": []
    },
    "kernelspec": {
      "display_name": "Python 3",
      "name": "python3"
    },
    "language_info": {
      "name": "python"
    },
    "accelerator": "GPU",
    "gpuClass": "standard"
  },
  "nbformat": 4,
  "nbformat_minor": 0
}